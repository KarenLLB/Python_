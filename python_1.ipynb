{
  "nbformat": 4,
  "nbformat_minor": 0,
  "metadata": {
    "colab": {
      "provenance": []
    },
    "kernelspec": {
      "name": "python3",
      "display_name": "Python 3"
    },
    "language_info": {
      "name": "python"
    }
  },
  "cells": [
    {
      "cell_type": "markdown",
      "source": [
        "**Buenos días,** estoy aprendiendo Python."
      ],
      "metadata": {
        "id": "C0Y4dN-5lsey"
      }
    },
    {
      "cell_type": "code",
      "source": [
        "#Esto no es una broma, pero si quiero ser millonaria\n",
        "print(\"Diosito no me abandones quiero ser millonario\")"
      ],
      "metadata": {
        "id": "mtUQnyz8loeI",
        "colab": {
          "base_uri": "https://localhost:8080/"
        },
        "outputId": "d4f6f01f-1894-407b-b559-1f3457ac9c5b"
      },
      "execution_count": null,
      "outputs": [
        {
          "output_type": "stream",
          "name": "stdout",
          "text": [
            "Diosito no me abandones quiero ser millonario\n"
          ]
        }
      ]
    },
    {
      "cell_type": "code",
      "source": [
        "#Este soy yo\n",
        "print(\"Hola, soy Karen Lagos, tengo 24 años, me gusta bailar y compartir tiempo en familia, vivo en Fontibón y no tengo hijos\")"
      ],
      "metadata": {
        "id": "-D39Eg_qmlbS",
        "colab": {
          "base_uri": "https://localhost:8080/"
        },
        "outputId": "8a66b2fc-4d34-485d-d06b-c23c344cbdad"
      },
      "execution_count": null,
      "outputs": [
        {
          "output_type": "stream",
          "name": "stdout",
          "text": [
            "Hola, soy Karen Lagos, tengo 24 años, me gusta bailar y compartir tiempo en familia, vivo en Fontibón y no tengo hijos\n"
          ]
        }
      ]
    },
    {
      "cell_type": "code",
      "source": [
        "\"cancion facorita: Molinos de viento\""
      ],
      "metadata": {
        "id": "wsKY78pfnVHt",
        "colab": {
          "base_uri": "https://localhost:8080/",
          "height": 36
        },
        "outputId": "3355675a-3920-4503-be71-a29c4a0013c3"
      },
      "execution_count": null,
      "outputs": [
        {
          "output_type": "execute_result",
          "data": {
            "text/plain": [
              "'cancion facorita: Molinos de viento'"
            ],
            "application/vnd.google.colaboratory.intrinsic+json": {
              "type": "string"
            }
          },
          "metadata": {},
          "execution_count": 5
        }
      ]
    },
    {
      "cell_type": "markdown",
      "source": [
        "**TIPOS DE DATOS**"
      ],
      "metadata": {
        "id": "v8pOGfxan-SZ"
      }
    },
    {
      "cell_type": "code",
      "source": [
        "#Tipo de dato entero, en ingles es integer y la abreviatura para Python es int\n",
        "type(24)"
      ],
      "metadata": {
        "id": "ohVVqsZwoC_m",
        "colab": {
          "base_uri": "https://localhost:8080/"
        },
        "outputId": "39dc6081-652b-4f2b-dd3c-dc5a62064838"
      },
      "execution_count": null,
      "outputs": [
        {
          "output_type": "execute_result",
          "data": {
            "text/plain": [
              "int"
            ]
          },
          "metadata": {},
          "execution_count": 6
        }
      ]
    },
    {
      "cell_type": "code",
      "source": [
        "#Tipo de dato flotante que en español, lo conocemos como decimal, su abreviatura es float\n",
        "type(9.8)"
      ],
      "metadata": {
        "id": "RWbzRG04o1R7",
        "colab": {
          "base_uri": "https://localhost:8080/"
        },
        "outputId": "6f672ec6-c5bf-46d0-94d2-4041d5e5b13b"
      },
      "execution_count": null,
      "outputs": [
        {
          "output_type": "execute_result",
          "data": {
            "text/plain": [
              "float"
            ]
          },
          "metadata": {},
          "execution_count": 7
        }
      ]
    },
    {
      "cell_type": "code",
      "source": [
        "#Boleanos, son tipos de datos que solo pueden tener dos valores: El True (verdadero) o False (falso)\n",
        "type(True)"
      ],
      "metadata": {
        "id": "EqlFLUBKpQxq",
        "colab": {
          "base_uri": "https://localhost:8080/"
        },
        "outputId": "fd7072f0-ed8c-44df-d073-b8d96084065b"
      },
      "execution_count": null,
      "outputs": [
        {
          "output_type": "execute_result",
          "data": {
            "text/plain": [
              "bool"
            ]
          },
          "metadata": {},
          "execution_count": 8
        }
      ]
    },
    {
      "cell_type": "code",
      "source": [
        "#Tipos de datos cadena, en ingles strings, siempre deben tener comillas, su abreviatura es str\n",
        "type(\"En un lugar de la mancha de cuyo nombre no puedo acordarme...\")"
      ],
      "metadata": {
        "id": "K2aIxFFRp54E",
        "colab": {
          "base_uri": "https://localhost:8080/"
        },
        "outputId": "7417380e-bd7c-4902-c1fe-b8a92b0a2deb"
      },
      "execution_count": null,
      "outputs": [
        {
          "output_type": "execute_result",
          "data": {
            "text/plain": [
              "str"
            ]
          },
          "metadata": {},
          "execution_count": 9
        }
      ]
    },
    {
      "cell_type": "markdown",
      "source": [
        "Metodos de las cadenas, las cadenas tienen funciones pequeñas que me ayudan a formatearlas"
      ],
      "metadata": {
        "id": "ANFFS-n4qbcB"
      }
    },
    {
      "cell_type": "code",
      "source": [
        "print(\"Hola estoy aprendiento python\".upper()) #Este metodo me sirve para poner mayúsuculas\n",
        "print(\"Con Python pUedo pEdir UN aumentO\".lower()) #Este metodo me sirve para poner minúsculas\n",
        "print(\"la cruz de plata\".title()) #Este metodo me sirve para colocar cada inicial de una palabra en mayúscula"
      ],
      "metadata": {
        "id": "CLsmubJ1qo_O",
        "colab": {
          "base_uri": "https://localhost:8080/"
        },
        "outputId": "d24962d4-ed0a-4413-8417-3e395ef0e0b0"
      },
      "execution_count": null,
      "outputs": [
        {
          "output_type": "stream",
          "name": "stdout",
          "text": [
            "HOLA ESTOY APRENDIENTO PYTHON\n",
            "con python puedo pedir un aumento\n",
            "La Cruz De Plata\n"
          ]
        }
      ]
    },
    {
      "cell_type": "code",
      "source": [
        "#Para contar las letras de una cadena, puedo usar el metodo count\n",
        "print(\"Que hay que hacer para aprender python sin estudiar\".count(\"a\"))"
      ],
      "metadata": {
        "id": "f4hHkcCyqziH",
        "colab": {
          "base_uri": "https://localhost:8080/"
        },
        "outputId": "c5767b14-f7e5-4f94-c836-76c835e0cb45"
      },
      "execution_count": null,
      "outputs": [
        {
          "output_type": "stream",
          "name": "stdout",
          "text": [
            "6\n"
          ]
        }
      ]
    },
    {
      "cell_type": "code",
      "source": [
        "print(\"\"\"Mi edad son 24 años\n",
        "Mi genero es Femenino\"\"\") #Este metodo con 3 comillas, se usa para que imprima un texto en diferentes lineas"
      ],
      "metadata": {
        "id": "HK3WuYrlshyA",
        "colab": {
          "base_uri": "https://localhost:8080/"
        },
        "outputId": "c4a6cea2-0cea-4ad3-d81f-26a7822239d2"
      },
      "execution_count": null,
      "outputs": [
        {
          "output_type": "stream",
          "name": "stdout",
          "text": [
            "Mi edad son 24 años\n",
            "Mi genero es Femenino\n"
          ]
        }
      ]
    },
    {
      "cell_type": "code",
      "source": [
        "#Como reemplazar un valor dentro de una cadena utilizando replace\n",
        "print(\"Hola soy karen lagos\".replace(\"k\",\"K\"))\n",
        "print(\"Hola soy karen lagos\".replace(\"l\",\"L\"))"
      ],
      "metadata": {
        "id": "65Hch2nAst3h",
        "colab": {
          "base_uri": "https://localhost:8080/"
        },
        "outputId": "969ceeec-1f37-4895-e4a4-7850426e4f79"
      },
      "execution_count": null,
      "outputs": [
        {
          "output_type": "stream",
          "name": "stdout",
          "text": [
            "Hola soy Karen lagos\n",
            "HoLa soy karen Lagos\n"
          ]
        }
      ]
    },
    {
      "cell_type": "markdown",
      "source": [
        "**Variables**\n",
        "Son variables de memoria que nos siren para guardar información particular, deben tener un nombre que nos ayude a identificar su contenido."
      ],
      "metadata": {
        "id": "1Svzx0emuH27"
      }
    },
    {
      "cell_type": "code",
      "source": [
        "#Para identificar una variable se usa nombre de la variable, el signo igual y el valor\n",
        "#ejemplo:Edad=13\n",
        "nombre=\"Karen Lizeth\"\n",
        "apellido=\"Lagos Bautista\"\n",
        "edad=24\n",
        "estado_civil=\"Soltero\""
      ],
      "metadata": {
        "id": "ShcdVX-9uNv1"
      },
      "execution_count": null,
      "outputs": []
    },
    {
      "cell_type": "code",
      "source": [
        "nombre"
      ],
      "metadata": {
        "id": "by5ZLVGuu95r",
        "colab": {
          "base_uri": "https://localhost:8080/",
          "height": 36
        },
        "outputId": "02623203-7525-4269-9deb-ce58f427e305"
      },
      "execution_count": null,
      "outputs": [
        {
          "output_type": "execute_result",
          "data": {
            "text/plain": [
              "'Karen Lizeth'"
            ],
            "application/vnd.google.colaboratory.intrinsic+json": {
              "type": "string"
            }
          },
          "metadata": {},
          "execution_count": 15
        }
      ]
    },
    {
      "cell_type": "code",
      "source": [
        "apellido"
      ],
      "metadata": {
        "id": "hHh2U4bZvKJZ",
        "colab": {
          "base_uri": "https://localhost:8080/",
          "height": 36
        },
        "outputId": "f67aa4b4-e351-4f93-ef34-f56995fcbebc"
      },
      "execution_count": null,
      "outputs": [
        {
          "output_type": "execute_result",
          "data": {
            "text/plain": [
              "'Lagos Bautista'"
            ],
            "application/vnd.google.colaboratory.intrinsic+json": {
              "type": "string"
            }
          },
          "metadata": {},
          "execution_count": 16
        }
      ]
    },
    {
      "cell_type": "code",
      "source": [
        "edad"
      ],
      "metadata": {
        "id": "Om3jEe6mvLjA",
        "colab": {
          "base_uri": "https://localhost:8080/"
        },
        "outputId": "d3195511-3b21-455b-8f77-39494d53eefe"
      },
      "execution_count": null,
      "outputs": [
        {
          "output_type": "execute_result",
          "data": {
            "text/plain": [
              "24"
            ]
          },
          "metadata": {},
          "execution_count": 17
        }
      ]
    },
    {
      "cell_type": "code",
      "source": [
        "estado_civil"
      ],
      "metadata": {
        "id": "fWg8en_3vMea",
        "colab": {
          "base_uri": "https://localhost:8080/",
          "height": 36
        },
        "outputId": "976c54b1-662b-45ad-9bf5-5a92d8a45339"
      },
      "execution_count": null,
      "outputs": [
        {
          "output_type": "execute_result",
          "data": {
            "text/plain": [
              "'Soltero'"
            ],
            "application/vnd.google.colaboratory.intrinsic+json": {
              "type": "string"
            }
          },
          "metadata": {},
          "execution_count": 18
        }
      ]
    },
    {
      "cell_type": "code",
      "source": [
        "#nombre de mi hijo que no tengo\n",
        "hijo_nombre=\"Pachito\"\n",
        "hijo_apellido=\"Mentiras\""
      ],
      "metadata": {
        "id": "V2VjBm1nvNwA"
      },
      "execution_count": null,
      "outputs": []
    },
    {
      "cell_type": "code",
      "source": [
        "hijo_apellido=\"Verdades\""
      ],
      "metadata": {
        "id": "MFb_ZzIjvalK"
      },
      "execution_count": null,
      "outputs": []
    },
    {
      "cell_type": "code",
      "source": [
        "hijo_nombre"
      ],
      "metadata": {
        "id": "BZleY8vZvwA5",
        "colab": {
          "base_uri": "https://localhost:8080/",
          "height": 36
        },
        "outputId": "3df714e4-5727-4e2b-e910-c470aa4ca422"
      },
      "execution_count": null,
      "outputs": [
        {
          "output_type": "execute_result",
          "data": {
            "text/plain": [
              "'Pachito'"
            ],
            "application/vnd.google.colaboratory.intrinsic+json": {
              "type": "string"
            }
          },
          "metadata": {},
          "execution_count": 21
        }
      ]
    },
    {
      "cell_type": "code",
      "source": [
        "hijo_apellido"
      ],
      "metadata": {
        "id": "6AwrjVsOvy7i",
        "colab": {
          "base_uri": "https://localhost:8080/",
          "height": 36
        },
        "outputId": "7e5327ab-28e5-4a8b-f9f0-0a980536e280"
      },
      "execution_count": null,
      "outputs": [
        {
          "output_type": "execute_result",
          "data": {
            "text/plain": [
              "'Verdades'"
            ],
            "application/vnd.google.colaboratory.intrinsic+json": {
              "type": "string"
            }
          },
          "metadata": {},
          "execution_count": 22
        }
      ]
    },
    {
      "cell_type": "code",
      "source": [
        "#esta es un variable con un mensaje\n",
        "mensaje_1=\"Ahora que se Python, Alexandra no me va a ganar\""
      ],
      "metadata": {
        "id": "pZtnsxkIv1tW"
      },
      "execution_count": null,
      "outputs": []
    },
    {
      "cell_type": "code",
      "source": [
        "mensaje_1"
      ],
      "metadata": {
        "id": "JhlRGdEo1xdN",
        "colab": {
          "base_uri": "https://localhost:8080/",
          "height": 36
        },
        "outputId": "ce0a47b1-5a48-4262-8d4d-68875847be39"
      },
      "execution_count": null,
      "outputs": [
        {
          "output_type": "execute_result",
          "data": {
            "text/plain": [
              "'Ahora que se Python, Alexandra no me va a ganar'"
            ],
            "application/vnd.google.colaboratory.intrinsic+json": {
              "type": "string"
            }
          },
          "metadata": {},
          "execution_count": 24
        }
      ]
    },
    {
      "cell_type": "code",
      "source": [
        "#Aca no solo guarda la variable si no que la muestra de una vez\n",
        "mensaje_2=\"Porque yo voy con toda\"\n",
        "mensaje_2"
      ],
      "metadata": {
        "id": "SPsrS-Q91zFM",
        "colab": {
          "base_uri": "https://localhost:8080/",
          "height": 36
        },
        "outputId": "f2131b5d-3d55-49f5-db9c-1a1718c5ec7d"
      },
      "execution_count": null,
      "outputs": [
        {
          "output_type": "execute_result",
          "data": {
            "text/plain": [
              "'Porque yo voy con toda'"
            ],
            "application/vnd.google.colaboratory.intrinsic+json": {
              "type": "string"
            }
          },
          "metadata": {},
          "execution_count": 25
        }
      ]
    },
    {
      "cell_type": "code",
      "source": [
        "#asi CONCATENO con python\n",
        "mensaje_1+mensaje_2"
      ],
      "metadata": {
        "id": "EAPViUaA2Iaj",
        "colab": {
          "base_uri": "https://localhost:8080/",
          "height": 36
        },
        "outputId": "25a1c99e-3b8c-4cf1-deb4-611fb84a7b54"
      },
      "execution_count": null,
      "outputs": [
        {
          "output_type": "execute_result",
          "data": {
            "text/plain": [
              "'Ahora que se Python, Alexandra no me va a ganarPorque yo voy con toda'"
            ],
            "application/vnd.google.colaboratory.intrinsic+json": {
              "type": "string"
            }
          },
          "metadata": {},
          "execution_count": 26
        }
      ]
    },
    {
      "cell_type": "code",
      "source": [
        "espacio=\" \""
      ],
      "metadata": {
        "id": "kCw0sbOL2hqO"
      },
      "execution_count": null,
      "outputs": []
    },
    {
      "cell_type": "code",
      "source": [
        "#Asi concateno la variable con un espacio vacio\n",
        "mensaje_1+espacio+mensaje_2"
      ],
      "metadata": {
        "id": "ueu6tqZ52nme",
        "colab": {
          "base_uri": "https://localhost:8080/",
          "height": 36
        },
        "outputId": "d047d502-542b-4be0-809c-b59f6548e2bf"
      },
      "execution_count": null,
      "outputs": [
        {
          "output_type": "execute_result",
          "data": {
            "text/plain": [
              "'Ahora que se Python, Alexandra no me va a ganar Porque yo voy con toda'"
            ],
            "application/vnd.google.colaboratory.intrinsic+json": {
              "type": "string"
            }
          },
          "metadata": {},
          "execution_count": 28
        }
      ]
    },
    {
      "cell_type": "code",
      "source": [
        "#Asi guardo la concatenación dentro de una variables\n",
        "mensaje_completo=mensaje_1+espacio+mensaje_2\n",
        "mensaje_completo"
      ],
      "metadata": {
        "id": "3Il7y3dp22Lv",
        "colab": {
          "base_uri": "https://localhost:8080/",
          "height": 36
        },
        "outputId": "2b80b767-9af7-4aad-8726-5f05c82eff6c"
      },
      "execution_count": null,
      "outputs": [
        {
          "output_type": "execute_result",
          "data": {
            "text/plain": [
              "'Ahora que se Python, Alexandra no me va a ganar Porque yo voy con toda'"
            ],
            "application/vnd.google.colaboratory.intrinsic+json": {
              "type": "string"
            }
          },
          "metadata": {},
          "execution_count": 29
        }
      ]
    },
    {
      "cell_type": "markdown",
      "source": [
        "Listas, son tipos de datos mutables y ordenados, son las mas usadas al trabajar con datos. Para declarar una lista, uso los corchetes cuadrados []"
      ],
      "metadata": {
        "id": "WrDd3o2S3_ne"
      }
    },
    {
      "cell_type": "code",
      "source": [
        "#Liastas: Las listas se definen como el siguiente ejemplo\n",
        "#datos=[\"Karen,\"Lizeth\",\"Lagos\",\"Bautista\",24,\"Soltero\",1.62]\n",
        "paises=[\"Colombia\", \"Ecuador\", \"México\", \"China\", \"Francia\", \"Paraguay\"]\n",
        "paises"
      ],
      "metadata": {
        "id": "io27raCL4aO-",
        "colab": {
          "base_uri": "https://localhost:8080/"
        },
        "outputId": "deb25f19-35b5-4b38-f9b8-3d50d2836af9"
      },
      "execution_count": null,
      "outputs": [
        {
          "output_type": "execute_result",
          "data": {
            "text/plain": [
              "['Colombia', 'Ecuador', 'México', 'China', 'Francia', 'Paraguay']"
            ]
          },
          "metadata": {},
          "execution_count": 30
        }
      ]
    },
    {
      "cell_type": "code",
      "source": [
        "#Las listas tienen indices automáticos que se generancuando creo la lista, sin embargo, estos no son visibles hasta que los llama\n",
        "paises[0]"
      ],
      "metadata": {
        "id": "AdQvAXZb5EAn",
        "colab": {
          "base_uri": "https://localhost:8080/",
          "height": 36
        },
        "outputId": "385ed06e-e331-45e2-c6ec-f272f591dcdc"
      },
      "execution_count": null,
      "outputs": [
        {
          "output_type": "execute_result",
          "data": {
            "text/plain": [
              "'Colombia'"
            ],
            "application/vnd.google.colaboratory.intrinsic+json": {
              "type": "string"
            }
          },
          "metadata": {},
          "execution_count": 31
        }
      ]
    },
    {
      "cell_type": "code",
      "source": [
        "paises[-6]"
      ],
      "metadata": {
        "id": "WQO2uGRV5tXP",
        "colab": {
          "base_uri": "https://localhost:8080/",
          "height": 36
        },
        "outputId": "2114f2f4-7003-4ab3-deeb-93e07131b953"
      },
      "execution_count": null,
      "outputs": [
        {
          "output_type": "execute_result",
          "data": {
            "text/plain": [
              "'Colombia'"
            ],
            "application/vnd.google.colaboratory.intrinsic+json": {
              "type": "string"
            }
          },
          "metadata": {},
          "execution_count": 32
        }
      ]
    },
    {
      "cell_type": "code",
      "source": [
        "paises[3]"
      ],
      "metadata": {
        "id": "PWwHrclJ537J",
        "colab": {
          "base_uri": "https://localhost:8080/",
          "height": 36
        },
        "outputId": "b0dac6df-d76f-4295-f032-fb515e78d841"
      },
      "execution_count": null,
      "outputs": [
        {
          "output_type": "execute_result",
          "data": {
            "text/plain": [
              "'China'"
            ],
            "application/vnd.google.colaboratory.intrinsic+json": {
              "type": "string"
            }
          },
          "metadata": {},
          "execution_count": 33
        }
      ]
    },
    {
      "cell_type": "code",
      "source": [
        "paises[-1]"
      ],
      "metadata": {
        "id": "AX3PcXab59DM",
        "colab": {
          "base_uri": "https://localhost:8080/",
          "height": 36
        },
        "outputId": "2cc2840f-93b0-409e-8e2e-7336d834a4ed"
      },
      "execution_count": null,
      "outputs": [
        {
          "output_type": "execute_result",
          "data": {
            "text/plain": [
              "'Paraguay'"
            ],
            "application/vnd.google.colaboratory.intrinsic+json": {
              "type": "string"
            }
          },
          "metadata": {},
          "execution_count": 34
        }
      ]
    },
    {
      "cell_type": "code",
      "source": [
        "#Llamar a Francia, desde la izquierda\n",
        "paises[4]"
      ],
      "metadata": {
        "id": "qRvSXLdh5-uu",
        "colab": {
          "base_uri": "https://localhost:8080/",
          "height": 36
        },
        "outputId": "adaceb80-2d6b-47eb-c852-c215942950e2"
      },
      "execution_count": null,
      "outputs": [
        {
          "output_type": "execute_result",
          "data": {
            "text/plain": [
              "'Francia'"
            ],
            "application/vnd.google.colaboratory.intrinsic+json": {
              "type": "string"
            }
          },
          "metadata": {},
          "execution_count": 35
        }
      ]
    },
    {
      "cell_type": "code",
      "source": [
        "#Llamar a Francia, desde la derecha\n",
        "paises[-2]"
      ],
      "metadata": {
        "id": "_MQgtoOz6DOU",
        "colab": {
          "base_uri": "https://localhost:8080/",
          "height": 36
        },
        "outputId": "87290c5b-5bf4-4d06-89dc-d520c3ad2403"
      },
      "execution_count": null,
      "outputs": [
        {
          "output_type": "execute_result",
          "data": {
            "text/plain": [
              "'Francia'"
            ],
            "application/vnd.google.colaboratory.intrinsic+json": {
              "type": "string"
            }
          },
          "metadata": {},
          "execution_count": 36
        }
      ]
    },
    {
      "cell_type": "code",
      "source": [
        "#La técnica del slicing me permite cortar pedazos de lista y guardarlos en una variable\n",
        "#cortemos\n",
        "paises[1:3] #1 es desde donde quiero que inicie y, 3 es hasta donde termine"
      ],
      "metadata": {
        "id": "_8DF-De06Fm8",
        "colab": {
          "base_uri": "https://localhost:8080/"
        },
        "outputId": "45ec332e-bd1a-45cd-cf8e-51e68d93e745"
      },
      "execution_count": null,
      "outputs": [
        {
          "output_type": "execute_result",
          "data": {
            "text/plain": [
              "['Ecuador', 'México']"
            ]
          },
          "metadata": {},
          "execution_count": 37
        }
      ]
    },
    {
      "cell_type": "code",
      "source": [
        "corte_paises=paises[1:3] #asignamos a una variable lo que cortamos\n",
        "corte_paises"
      ],
      "metadata": {
        "id": "jFFNZc3167F3",
        "colab": {
          "base_uri": "https://localhost:8080/"
        },
        "outputId": "145f5e21-1ecf-4838-f92c-55b7948db87b"
      },
      "execution_count": null,
      "outputs": [
        {
          "output_type": "execute_result",
          "data": {
            "text/plain": [
              "['Ecuador', 'México']"
            ]
          },
          "metadata": {},
          "execution_count": 38
        }
      ]
    },
    {
      "cell_type": "code",
      "source": [
        "paises[1:] #Si queremos cortar hasta n numero de datos dejamos vacio segun correponda al inicio o final"
      ],
      "metadata": {
        "id": "FvHN0FhX7O6i",
        "colab": {
          "base_uri": "https://localhost:8080/"
        },
        "outputId": "89b6f7d8-423c-4866-a0e5-2a641f8d34c1"
      },
      "execution_count": null,
      "outputs": [
        {
          "output_type": "execute_result",
          "data": {
            "text/plain": [
              "['Ecuador', 'México', 'China', 'Francia', 'Paraguay']"
            ]
          },
          "metadata": {},
          "execution_count": 39
        }
      ]
    },
    {
      "cell_type": "code",
      "source": [
        "#Asi agrego elementos al final de una lista\n",
        "paises.append(\"RUSIA\")\n",
        "paises"
      ],
      "metadata": {
        "id": "LWta9AQb7B-2",
        "colab": {
          "base_uri": "https://localhost:8080/"
        },
        "outputId": "ce5fd640-d531-4d36-cce0-c235b960c8f1"
      },
      "execution_count": null,
      "outputs": [
        {
          "output_type": "execute_result",
          "data": {
            "text/plain": [
              "['Colombia', 'Ecuador', 'México', 'China', 'Francia', 'Paraguay', 'RUSIA']"
            ]
          },
          "metadata": {},
          "execution_count": 40
        }
      ]
    },
    {
      "cell_type": "code",
      "source": [
        "#para agregar un dato en la posicion de la lista que yo quiera uso insert\n",
        "paises.insert(0,\"Venezuela\")\n",
        "paises"
      ],
      "metadata": {
        "id": "0kzb5gx58D_n",
        "colab": {
          "base_uri": "https://localhost:8080/"
        },
        "outputId": "e52b904e-01d5-42ce-f9cc-b78c302c0757"
      },
      "execution_count": null,
      "outputs": [
        {
          "output_type": "execute_result",
          "data": {
            "text/plain": [
              "['Venezuela',\n",
              " 'Colombia',\n",
              " 'Ecuador',\n",
              " 'México',\n",
              " 'China',\n",
              " 'Francia',\n",
              " 'Paraguay',\n",
              " 'RUSIA']"
            ]
          },
          "metadata": {},
          "execution_count": 41
        }
      ]
    },
    {
      "cell_type": "code",
      "source": [
        "#Tambien puedo concatenar listas\n",
        "paises_europa=[\"Italia\",\"Alemania\",\"España\",\"Portugal\",\"Polonia\"]\n",
        "paises_europa"
      ],
      "metadata": {
        "id": "6VbhIsIX8PU3",
        "colab": {
          "base_uri": "https://localhost:8080/"
        },
        "outputId": "4c5c3817-fa79-446b-d55f-2533a6016874"
      },
      "execution_count": null,
      "outputs": [
        {
          "output_type": "execute_result",
          "data": {
            "text/plain": [
              "['Italia', 'Alemania', 'España', 'Portugal', 'Polonia']"
            ]
          },
          "metadata": {},
          "execution_count": 42
        }
      ]
    },
    {
      "cell_type": "code",
      "source": [
        "paises+paises_europa"
      ],
      "metadata": {
        "id": "CzCmnGel814C",
        "colab": {
          "base_uri": "https://localhost:8080/"
        },
        "outputId": "0e42eeda-642d-4f47-8793-9939c98e9fea"
      },
      "execution_count": null,
      "outputs": [
        {
          "output_type": "execute_result",
          "data": {
            "text/plain": [
              "['Venezuela',\n",
              " 'Colombia',\n",
              " 'Ecuador',\n",
              " 'México',\n",
              " 'China',\n",
              " 'Francia',\n",
              " 'Paraguay',\n",
              " 'RUSIA',\n",
              " 'Italia',\n",
              " 'Alemania',\n",
              " 'España',\n",
              " 'Portugal',\n",
              " 'Polonia']"
            ]
          },
          "metadata": {},
          "execution_count": 43
        }
      ]
    },
    {
      "cell_type": "code",
      "source": [
        "paises_completos=paises+paises_europa\n",
        "paises_completos"
      ],
      "metadata": {
        "id": "k-r39zEh86Lq",
        "colab": {
          "base_uri": "https://localhost:8080/"
        },
        "outputId": "76dcf11c-f919-4e4b-95c0-ef0c6e7fe2bf"
      },
      "execution_count": null,
      "outputs": [
        {
          "output_type": "execute_result",
          "data": {
            "text/plain": [
              "['Venezuela',\n",
              " 'Colombia',\n",
              " 'Ecuador',\n",
              " 'México',\n",
              " 'China',\n",
              " 'Francia',\n",
              " 'Paraguay',\n",
              " 'RUSIA',\n",
              " 'Italia',\n",
              " 'Alemania',\n",
              " 'España',\n",
              " 'Portugal',\n",
              " 'Polonia']"
            ]
          },
          "metadata": {},
          "execution_count": 44
        }
      ]
    },
    {
      "cell_type": "code",
      "source": [
        "paises_completos_lista=[paises,paises_europa]\n",
        "paises_completos_lista"
      ],
      "metadata": {
        "id": "UcTNFQgc8_mu",
        "colab": {
          "base_uri": "https://localhost:8080/"
        },
        "outputId": "9b6e8328-1282-488c-fdc1-e45ced975b7b"
      },
      "execution_count": null,
      "outputs": [
        {
          "output_type": "execute_result",
          "data": {
            "text/plain": [
              "[['Venezuela',\n",
              "  'Colombia',\n",
              "  'Ecuador',\n",
              "  'México',\n",
              "  'China',\n",
              "  'Francia',\n",
              "  'Paraguay',\n",
              "  'RUSIA'],\n",
              " ['Italia', 'Alemania', 'España', 'Portugal', 'Polonia']]"
            ]
          },
          "metadata": {},
          "execution_count": 45
        }
      ]
    },
    {
      "cell_type": "markdown",
      "source": [
        "**#EJERCICIO 1  - CLASE 01 OCTUBRE**"
      ],
      "metadata": {
        "id": "qJAOOgsFFWTo"
      }
    },
    {
      "cell_type": "code",
      "source": [
        "Datos_personales=[\"Karen Lizeth\"] #Crear lista con datos personales\n",
        "Datos_personales"
      ],
      "metadata": {
        "id": "azL8j595Br3O",
        "colab": {
          "base_uri": "https://localhost:8080/"
        },
        "outputId": "7afd065e-3970-47c2-8fe3-1e433a71e596"
      },
      "execution_count": null,
      "outputs": [
        {
          "output_type": "execute_result",
          "data": {
            "text/plain": [
              "['Karen Lizeth']"
            ]
          },
          "metadata": {},
          "execution_count": 46
        }
      ]
    },
    {
      "cell_type": "code",
      "source": [
        "Datos_personales.append(\"Lagos Bautista\")\n",
        "Datos_personales"
      ],
      "metadata": {
        "id": "GJiI2PxuCbBe",
        "colab": {
          "base_uri": "https://localhost:8080/"
        },
        "outputId": "6b87c8f0-74e9-461e-8fe0-fc9e69418ba1"
      },
      "execution_count": null,
      "outputs": [
        {
          "output_type": "execute_result",
          "data": {
            "text/plain": [
              "['Karen Lizeth', 'Lagos Bautista']"
            ]
          },
          "metadata": {},
          "execution_count": 47
        }
      ]
    },
    {
      "cell_type": "code",
      "source": [
        "Datos_personales.append(24)\n",
        "Datos_personales"
      ],
      "metadata": {
        "id": "Gsge2dv2DJ8I",
        "colab": {
          "base_uri": "https://localhost:8080/"
        },
        "outputId": "6dfa0cbc-afcc-48ff-fb72-95cae60814b6"
      },
      "execution_count": null,
      "outputs": [
        {
          "output_type": "execute_result",
          "data": {
            "text/plain": [
              "['Karen Lizeth', 'Lagos Bautista', 24]"
            ]
          },
          "metadata": {},
          "execution_count": 48
        }
      ]
    },
    {
      "cell_type": "code",
      "source": [
        "Datos_personales.append(1000514192)\n",
        "Datos_personales"
      ],
      "metadata": {
        "id": "XIr9vmfBDtXD",
        "colab": {
          "base_uri": "https://localhost:8080/"
        },
        "outputId": "cd2cf171-47b8-4c41-b71c-712949b1611f"
      },
      "execution_count": null,
      "outputs": [
        {
          "output_type": "execute_result",
          "data": {
            "text/plain": [
              "['Karen Lizeth', 'Lagos Bautista', 24, 1000514192]"
            ]
          },
          "metadata": {},
          "execution_count": 49
        }
      ]
    },
    {
      "cell_type": "code",
      "source": [
        "Datos_personales.append(1.62)\n",
        "Datos_personales"
      ],
      "metadata": {
        "id": "t7Tqs4NRDwMW",
        "colab": {
          "base_uri": "https://localhost:8080/"
        },
        "outputId": "560479db-b10b-4dc4-da9a-59794ec0aace"
      },
      "execution_count": null,
      "outputs": [
        {
          "output_type": "execute_result",
          "data": {
            "text/plain": [
              "['Karen Lizeth', 'Lagos Bautista', 24, 1000514192, 1.62]"
            ]
          },
          "metadata": {},
          "execution_count": 50
        }
      ]
    },
    {
      "cell_type": "code",
      "source": [
        "Datos_personales.append(\"Soltero\")\n",
        "Datos_personales"
      ],
      "metadata": {
        "id": "O9YwYP2HD70y",
        "colab": {
          "base_uri": "https://localhost:8080/"
        },
        "outputId": "319c1fcc-1874-48eb-8ef3-e9eb0277f3ba"
      },
      "execution_count": null,
      "outputs": [
        {
          "output_type": "execute_result",
          "data": {
            "text/plain": [
              "['Karen Lizeth', 'Lagos Bautista', 24, 1000514192, 1.62, 'Soltero']"
            ]
          },
          "metadata": {},
          "execution_count": 51
        }
      ]
    },
    {
      "cell_type": "code",
      "source": [
        "Familiares=[] #Crear lista con familiares"
      ],
      "metadata": {
        "id": "sHNCtxhMEGIY"
      },
      "execution_count": null,
      "outputs": []
    },
    {
      "cell_type": "code",
      "source": [
        "Familiares.append(\"Carlos\")\n",
        "Familiares"
      ],
      "metadata": {
        "id": "8Shop1X_EV3r",
        "colab": {
          "base_uri": "https://localhost:8080/"
        },
        "outputId": "3c9a40cf-1063-42e0-c883-f701eb0902a5"
      },
      "execution_count": null,
      "outputs": [
        {
          "output_type": "execute_result",
          "data": {
            "text/plain": [
              "['Carlos']"
            ]
          },
          "metadata": {},
          "execution_count": 53
        }
      ]
    },
    {
      "cell_type": "code",
      "source": [
        "Familiares.append(\"Liliana\")\n",
        "Familiares"
      ],
      "metadata": {
        "id": "-W-cUK7JEajs",
        "colab": {
          "base_uri": "https://localhost:8080/"
        },
        "outputId": "aa65513a-8c31-45ef-af26-627223b72f7e"
      },
      "execution_count": null,
      "outputs": [
        {
          "output_type": "execute_result",
          "data": {
            "text/plain": [
              "['Carlos', 'Liliana']"
            ]
          },
          "metadata": {},
          "execution_count": 54
        }
      ]
    },
    {
      "cell_type": "code",
      "source": [
        "Familiares.append(\"Maria\")\n",
        "Familiares"
      ],
      "metadata": {
        "id": "Nv9XUWhEE9aI",
        "colab": {
          "base_uri": "https://localhost:8080/"
        },
        "outputId": "6066f073-eb46-4d14-d128-00f5da3e318c"
      },
      "execution_count": null,
      "outputs": [
        {
          "output_type": "execute_result",
          "data": {
            "text/plain": [
              "['Carlos', 'Liliana', 'Maria']"
            ]
          },
          "metadata": {},
          "execution_count": 55
        }
      ]
    },
    {
      "cell_type": "code",
      "source": [
        "Familiares.append(\"Tatiana\")\n",
        "Familiares"
      ],
      "metadata": {
        "id": "7CCfjnwQFByc",
        "colab": {
          "base_uri": "https://localhost:8080/"
        },
        "outputId": "651da3ca-ea4b-4043-e0cf-bf962471e775"
      },
      "execution_count": null,
      "outputs": [
        {
          "output_type": "execute_result",
          "data": {
            "text/plain": [
              "['Carlos', 'Liliana', 'Maria', 'Tatiana']"
            ]
          },
          "metadata": {},
          "execution_count": 56
        }
      ]
    },
    {
      "cell_type": "code",
      "source": [
        "Familiares.append(\"Camilo\")\n",
        "Familiares"
      ],
      "metadata": {
        "id": "nt0zh9gaFGNz",
        "colab": {
          "base_uri": "https://localhost:8080/"
        },
        "outputId": "2c757f6c-f748-4be1-fefa-2b477644a87f"
      },
      "execution_count": null,
      "outputs": [
        {
          "output_type": "execute_result",
          "data": {
            "text/plain": [
              "['Carlos', 'Liliana', 'Maria', 'Tatiana', 'Camilo']"
            ]
          },
          "metadata": {},
          "execution_count": 57
        }
      ]
    },
    {
      "cell_type": "code",
      "source": [
        "Familiares.insert(0,60)\n",
        "Familiares"
      ],
      "metadata": {
        "id": "bfl2KUslFJf8",
        "colab": {
          "base_uri": "https://localhost:8080/"
        },
        "outputId": "ea18c57a-4412-4fd7-e239-06e9f0771019"
      },
      "execution_count": null,
      "outputs": [
        {
          "output_type": "execute_result",
          "data": {
            "text/plain": [
              "[60, 'Carlos', 'Liliana', 'Maria', 'Tatiana', 'Camilo']"
            ]
          },
          "metadata": {},
          "execution_count": 58
        }
      ]
    },
    {
      "cell_type": "code",
      "source": [
        "Familiares.insert(2,57)\n",
        "Familiares"
      ],
      "metadata": {
        "id": "NxgLKIAxGyTE",
        "colab": {
          "base_uri": "https://localhost:8080/"
        },
        "outputId": "6ba52f40-72ea-41d5-c00a-0dad3e8c6fd1"
      },
      "execution_count": null,
      "outputs": [
        {
          "output_type": "execute_result",
          "data": {
            "text/plain": [
              "[60, 'Carlos', 57, 'Liliana', 'Maria', 'Tatiana', 'Camilo']"
            ]
          },
          "metadata": {},
          "execution_count": 59
        }
      ]
    },
    {
      "cell_type": "code",
      "source": [
        "Familiares.insert(4,79)\n",
        "Familiares"
      ],
      "metadata": {
        "id": "ILj_-lfbHHtn",
        "colab": {
          "base_uri": "https://localhost:8080/"
        },
        "outputId": "56edee49-dd0d-4136-89fd-ce4382830ad1"
      },
      "execution_count": null,
      "outputs": [
        {
          "output_type": "execute_result",
          "data": {
            "text/plain": [
              "[60, 'Carlos', 57, 'Liliana', 79, 'Maria', 'Tatiana', 'Camilo']"
            ]
          },
          "metadata": {},
          "execution_count": 60
        }
      ]
    },
    {
      "cell_type": "code",
      "source": [
        "Familiares.insert(6,30)\n",
        "Familiares"
      ],
      "metadata": {
        "id": "qH3M5tpjHbqO",
        "colab": {
          "base_uri": "https://localhost:8080/"
        },
        "outputId": "7ac6c47d-8230-43fe-b058-04a3855db0db"
      },
      "execution_count": null,
      "outputs": [
        {
          "output_type": "execute_result",
          "data": {
            "text/plain": [
              "[60, 'Carlos', 57, 'Liliana', 79, 'Maria', 30, 'Tatiana', 'Camilo']"
            ]
          },
          "metadata": {},
          "execution_count": 61
        }
      ]
    },
    {
      "cell_type": "code",
      "source": [
        "Familiares.insert(8,30)\n",
        "Familiares"
      ],
      "metadata": {
        "id": "9stuKKP4H4d9",
        "colab": {
          "base_uri": "https://localhost:8080/"
        },
        "outputId": "a39d6dbb-cd3f-4eaa-cbe4-7c63d5dc3aab"
      },
      "execution_count": null,
      "outputs": [
        {
          "output_type": "execute_result",
          "data": {
            "text/plain": [
              "[60, 'Carlos', 57, 'Liliana', 79, 'Maria', 30, 'Tatiana', 30, 'Camilo']"
            ]
          },
          "metadata": {},
          "execution_count": 62
        }
      ]
    },
    {
      "cell_type": "markdown",
      "source": [
        "**CONTINUA LA CLASE**\n",
        "\n"
      ],
      "metadata": {
        "id": "pPxJVqjIKi_-"
      }
    },
    {
      "cell_type": "code",
      "source": [
        "#Esta funcion input, me sirve para tomar datos del ususario\n",
        "edad_1=input(\"Hola, que te parece si antes de apostar tu casa, vemos si eres mayor de dad, ingresa tu edad: \")"
      ],
      "metadata": {
        "id": "XcCFz6GhKmNV",
        "colab": {
          "base_uri": "https://localhost:8080/"
        },
        "outputId": "9b637b4f-cb13-486a-c8b8-edf02b46cb4c"
      },
      "execution_count": null,
      "outputs": [
        {
          "name": "stdout",
          "output_type": "stream",
          "text": [
            "Hola, que te parece si antes de apostar tu casa, vemos si eres mayor de dad, ingresa tu edad: 24\n"
          ]
        }
      ]
    },
    {
      "cell_type": "code",
      "source": [
        "nombre_2=input(\"Ingresa tu nombre \")\n",
        "print(\"La verdad hoy estas terrible\",nombre_2)"
      ],
      "metadata": {
        "id": "7_kNnKhVKz69",
        "colab": {
          "base_uri": "https://localhost:8080/"
        },
        "outputId": "d7434044-0db4-4665-81c3-3dd0c641ef89"
      },
      "execution_count": null,
      "outputs": [
        {
          "output_type": "stream",
          "name": "stdout",
          "text": [
            "Ingresa tu nombre Pepito\n",
            "La verdad hoy estas terrible Pepito\n"
          ]
        }
      ]
    },
    {
      "cell_type": "code",
      "source": [
        "paises"
      ],
      "metadata": {
        "id": "MVre-YsoLdcJ",
        "colab": {
          "base_uri": "https://localhost:8080/"
        },
        "outputId": "e9828ce9-90d1-4530-c7b2-d63377a162ab"
      },
      "execution_count": null,
      "outputs": [
        {
          "output_type": "execute_result",
          "data": {
            "text/plain": [
              "['Venezuela',\n",
              " 'Colombia',\n",
              " 'Ecuador',\n",
              " 'México',\n",
              " 'China',\n",
              " 'Francia',\n",
              " 'Paraguay',\n",
              " 'RUSIA']"
            ]
          },
          "metadata": {},
          "execution_count": 65
        }
      ]
    },
    {
      "cell_type": "code",
      "source": [
        "#Para remover datos de las listas, utilizo el metodo remove\n",
        "paises.remove(\"RUSIA\")\n",
        "paises"
      ],
      "metadata": {
        "id": "hInKZDYwLqT5",
        "colab": {
          "base_uri": "https://localhost:8080/"
        },
        "outputId": "63f05578-27bb-440f-96a6-ea9fa189a97d"
      },
      "execution_count": null,
      "outputs": [
        {
          "output_type": "execute_result",
          "data": {
            "text/plain": [
              "['Venezuela', 'Colombia', 'Ecuador', 'México', 'China', 'Francia', 'Paraguay']"
            ]
          },
          "metadata": {},
          "execution_count": 66
        }
      ]
    },
    {
      "cell_type": "code",
      "source": [
        "#otro metodo para eliminar, es el metodo pop. Este me permite eliminar por posición. (por ejemplo china)\n",
        "paises.pop(4)"
      ],
      "metadata": {
        "id": "rpi6J-BuLzDv",
        "colab": {
          "base_uri": "https://localhost:8080/",
          "height": 36
        },
        "outputId": "c96f1d66-1df7-459b-c93d-7082c24476f9"
      },
      "execution_count": null,
      "outputs": [
        {
          "output_type": "execute_result",
          "data": {
            "text/plain": [
              "'China'"
            ],
            "application/vnd.google.colaboratory.intrinsic+json": {
              "type": "string"
            }
          },
          "metadata": {},
          "execution_count": 67
        }
      ]
    },
    {
      "cell_type": "code",
      "source": [
        "paises"
      ],
      "metadata": {
        "id": "JSe67O-iMFzL",
        "colab": {
          "base_uri": "https://localhost:8080/"
        },
        "outputId": "5f495619-f975-4704-c924-f090fef7fb9d"
      },
      "execution_count": null,
      "outputs": [
        {
          "output_type": "execute_result",
          "data": {
            "text/plain": [
              "['Venezuela', 'Colombia', 'Ecuador', 'México', 'Francia', 'Paraguay']"
            ]
          },
          "metadata": {},
          "execution_count": 68
        }
      ]
    },
    {
      "cell_type": "code",
      "source": [
        "#para eliminar definitivamente, se utiliza del (por ejemplo Francia)\n",
        "del paises[4]"
      ],
      "metadata": {
        "id": "wWOBL-jYMQ1g"
      },
      "execution_count": null,
      "outputs": []
    },
    {
      "cell_type": "code",
      "source": [
        "paises"
      ],
      "metadata": {
        "id": "3-50yI_TMwde",
        "colab": {
          "base_uri": "https://localhost:8080/"
        },
        "outputId": "41f26814-ebe2-485f-9e8c-cf7dd0fed76c"
      },
      "execution_count": null,
      "outputs": [
        {
          "output_type": "execute_result",
          "data": {
            "text/plain": [
              "['Venezuela', 'Colombia', 'Ecuador', 'México', 'Paraguay']"
            ]
          },
          "metadata": {},
          "execution_count": 70
        }
      ]
    },
    {
      "cell_type": "code",
      "source": [
        "#ordenar las listas, las puedo ordenar de menor a mayor o alfanumericamente, con el metodo sort\n",
        "paises.sort()\n",
        "paises"
      ],
      "metadata": {
        "id": "4Tp4_zPLMx4r",
        "colab": {
          "base_uri": "https://localhost:8080/"
        },
        "outputId": "ac5e8a51-7afd-47a1-b346-be7308e6d70f"
      },
      "execution_count": null,
      "outputs": [
        {
          "output_type": "execute_result",
          "data": {
            "text/plain": [
              "['Colombia', 'Ecuador', 'México', 'Paraguay', 'Venezuela']"
            ]
          },
          "metadata": {},
          "execution_count": 71
        }
      ]
    },
    {
      "cell_type": "code",
      "source": [
        "digitos=[2,4,7,3,0,9,3,6,8,1] #organiza de menor a mayor\n",
        "digitos.sort()\n",
        "digitos"
      ],
      "metadata": {
        "id": "aofhp7b2Ondq",
        "colab": {
          "base_uri": "https://localhost:8080/"
        },
        "outputId": "3bbcb946-3c0b-4560-d98a-ed49026caa7f"
      },
      "execution_count": null,
      "outputs": [
        {
          "output_type": "execute_result",
          "data": {
            "text/plain": [
              "[0, 1, 2, 3, 3, 4, 6, 7, 8, 9]"
            ]
          },
          "metadata": {},
          "execution_count": 72
        }
      ]
    },
    {
      "cell_type": "code",
      "source": [
        "digitos.sort(reverse=True) #organiza de mayor a menor\n",
        "digitos"
      ],
      "metadata": {
        "id": "FuizfZjyOymP",
        "colab": {
          "base_uri": "https://localhost:8080/"
        },
        "outputId": "7ae66182-c61a-48cc-90a3-f52da46e7bf7"
      },
      "execution_count": null,
      "outputs": [
        {
          "output_type": "execute_result",
          "data": {
            "text/plain": [
              "[9, 8, 7, 6, 4, 3, 3, 2, 1, 0]"
            ]
          },
          "metadata": {},
          "execution_count": 73
        }
      ]
    },
    {
      "cell_type": "code",
      "source": [
        "paises.sort(reverse=True)\n",
        "paises"
      ],
      "metadata": {
        "id": "dUw6mc3kPB-J",
        "colab": {
          "base_uri": "https://localhost:8080/"
        },
        "outputId": "8494e3ec-df9e-406d-8587-acdd09a10133"
      },
      "execution_count": null,
      "outputs": [
        {
          "output_type": "execute_result",
          "data": {
            "text/plain": [
              "['Venezuela', 'Paraguay', 'México', 'Ecuador', 'Colombia']"
            ]
          },
          "metadata": {},
          "execution_count": 74
        }
      ]
    },
    {
      "cell_type": "code",
      "source": [
        "#Realizar copia de una base de datos\n",
        "paises_copia_verdadera=paises.copy()\n",
        "paises_copia_verdadera"
      ],
      "metadata": {
        "id": "tTEm3WcaPpCj",
        "colab": {
          "base_uri": "https://localhost:8080/"
        },
        "outputId": "f2eba9a9-edf0-41f4-eeaf-bb52ab565dcb"
      },
      "execution_count": null,
      "outputs": [
        {
          "output_type": "execute_result",
          "data": {
            "text/plain": [
              "['Venezuela', 'Paraguay', 'México', 'Ecuador', 'Colombia']"
            ]
          },
          "metadata": {},
          "execution_count": 75
        }
      ]
    },
    {
      "cell_type": "code",
      "source": [
        "paises_copia_verdadera_2=paises[:] #corta la lista desde el incio hasta el final\n",
        "paises_copia_verdadera_2"
      ],
      "metadata": {
        "id": "NxbHZx1SPwsQ",
        "colab": {
          "base_uri": "https://localhost:8080/"
        },
        "outputId": "6cb80c1b-cee0-4cef-9bb9-f7b1cdb6cb87"
      },
      "execution_count": null,
      "outputs": [
        {
          "output_type": "execute_result",
          "data": {
            "text/plain": [
              "['Venezuela', 'Paraguay', 'México', 'Ecuador', 'Colombia']"
            ]
          },
          "metadata": {},
          "execution_count": 76
        }
      ]
    },
    {
      "cell_type": "markdown",
      "source": [
        "**Diccionarios: Los diccionarios son tipos de datos que tienen una llave y un valor, a la combinación de llave con valor se le conoce como item. En los diccionarios puedo usar métodos parecidos a los de las listas.**"
      ],
      "metadata": {
        "id": "04SZ6BdRQLFC"
      }
    },
    {
      "cell_type": "code",
      "source": [
        "diccionario_ing_esp={\"casa\":\"house\",\"entender\":\"understand\",\"sediento\":\"thirsty\",\"rojo\":\"red\",\"ocupado\":\"bussy\"} #casa es la llave, house es el valor y, la sumatoria es un item para consolidar un diccionario.\n",
        "diccionario_ing_esp"
      ],
      "metadata": {
        "id": "Q9NbjcKXQdnz",
        "colab": {
          "base_uri": "https://localhost:8080/"
        },
        "outputId": "3553c9fd-31c7-4484-88ce-5536ea8776ec"
      },
      "execution_count": null,
      "outputs": [
        {
          "output_type": "execute_result",
          "data": {
            "text/plain": [
              "{'casa': 'house',\n",
              " 'entender': 'understand',\n",
              " 'sediento': 'thirsty',\n",
              " 'rojo': 'red',\n",
              " 'ocupado': 'bussy'}"
            ]
          },
          "metadata": {},
          "execution_count": 77
        }
      ]
    },
    {
      "cell_type": "code",
      "source": [
        "#Para ver un valor de una llave determinada lo hago de la siguiente manera\n",
        "diccionario_ing_esp[\"casa\"]"
      ],
      "metadata": {
        "id": "w5DOrHGjR9RK",
        "colab": {
          "base_uri": "https://localhost:8080/",
          "height": 36
        },
        "outputId": "c7c773a7-d7ea-4355-d6f6-fb5fa6b66e2b"
      },
      "execution_count": null,
      "outputs": [
        {
          "output_type": "execute_result",
          "data": {
            "text/plain": [
              "'house'"
            ],
            "application/vnd.google.colaboratory.intrinsic+json": {
              "type": "string"
            }
          },
          "metadata": {},
          "execution_count": 78
        }
      ]
    },
    {
      "cell_type": "code",
      "source": [
        "#Para traer todas las llaves de un diccionario, puedo utiizar el metodo keys\n",
        "diccionario_ing_esp.keys()\n",
        "diccionario_ing_esp"
      ],
      "metadata": {
        "id": "8j_GO_IhSzcm",
        "colab": {
          "base_uri": "https://localhost:8080/"
        },
        "outputId": "5d5d0599-d2fd-476b-b2af-43d35910ce98"
      },
      "execution_count": null,
      "outputs": [
        {
          "output_type": "execute_result",
          "data": {
            "text/plain": [
              "{'casa': 'house',\n",
              " 'entender': 'understand',\n",
              " 'sediento': 'thirsty',\n",
              " 'rojo': 'red',\n",
              " 'ocupado': 'bussy'}"
            ]
          },
          "metadata": {},
          "execution_count": 79
        }
      ]
    },
    {
      "cell_type": "code",
      "source": [
        "#Para traer todos los valores de los diccionarios uso values\n",
        "diccionario_ing_esp.values()\n",
        "diccionario_ing_esp"
      ],
      "metadata": {
        "id": "Q_l1sJAjTE1V",
        "colab": {
          "base_uri": "https://localhost:8080/"
        },
        "outputId": "3ab8602d-6813-447b-fcef-6fadd981068e"
      },
      "execution_count": null,
      "outputs": [
        {
          "output_type": "execute_result",
          "data": {
            "text/plain": [
              "{'casa': 'house',\n",
              " 'entender': 'understand',\n",
              " 'sediento': 'thirsty',\n",
              " 'rojo': 'red',\n",
              " 'ocupado': 'bussy'}"
            ]
          },
          "metadata": {},
          "execution_count": 80
        }
      ]
    },
    {
      "cell_type": "code",
      "source": [
        "#Para mostrar todo el diccionario\n",
        "diccionario_ing_esp"
      ],
      "metadata": {
        "id": "kfUdt_f6TE8m",
        "colab": {
          "base_uri": "https://localhost:8080/"
        },
        "outputId": "b5d8ba04-037c-4b7c-bb4a-d826dbbcc92b"
      },
      "execution_count": null,
      "outputs": [
        {
          "output_type": "execute_result",
          "data": {
            "text/plain": [
              "{'casa': 'house',\n",
              " 'entender': 'understand',\n",
              " 'sediento': 'thirsty',\n",
              " 'rojo': 'red',\n",
              " 'ocupado': 'bussy'}"
            ]
          },
          "metadata": {},
          "execution_count": 81
        }
      ]
    },
    {
      "cell_type": "code",
      "source": [
        "diccionario_ing_esp.items()"
      ],
      "metadata": {
        "id": "ZXCaJSkoTOxn",
        "colab": {
          "base_uri": "https://localhost:8080/"
        },
        "outputId": "480641b5-7e8f-46d9-c26c-cf9212018a10"
      },
      "execution_count": null,
      "outputs": [
        {
          "output_type": "execute_result",
          "data": {
            "text/plain": [
              "dict_items([('casa', 'house'), ('entender', 'understand'), ('sediento', 'thirsty'), ('rojo', 'red'), ('ocupado', 'bussy')])"
            ]
          },
          "metadata": {},
          "execution_count": 82
        }
      ]
    },
    {
      "cell_type": "code",
      "source": [
        "type(diccionario_ing_esp)"
      ],
      "metadata": {
        "id": "XQPnHBS2TTKP",
        "colab": {
          "base_uri": "https://localhost:8080/"
        },
        "outputId": "a497d785-7870-46d4-db52-2ce357a5fa1c"
      },
      "execution_count": null,
      "outputs": [
        {
          "output_type": "execute_result",
          "data": {
            "text/plain": [
              "dict"
            ]
          },
          "metadata": {},
          "execution_count": 83
        }
      ]
    },
    {
      "cell_type": "code",
      "source": [
        "#Para agregar un nuevo elemento a un doiccionario, lo hago de la siguiente manera\n",
        "diccionario_ing_esp[\"azul\"]=\"blue\"\n",
        "diccionario_ing_esp"
      ],
      "metadata": {
        "id": "06b_23dHTZP6",
        "colab": {
          "base_uri": "https://localhost:8080/"
        },
        "outputId": "0e96187c-0c5c-4639-cc81-231dc0379f34"
      },
      "execution_count": null,
      "outputs": [
        {
          "output_type": "execute_result",
          "data": {
            "text/plain": [
              "{'casa': 'house',\n",
              " 'entender': 'understand',\n",
              " 'sediento': 'thirsty',\n",
              " 'rojo': 'red',\n",
              " 'ocupado': 'bussy',\n",
              " 'azul': 'blue'}"
            ]
          },
          "metadata": {},
          "execution_count": 84
        }
      ]
    },
    {
      "cell_type": "code",
      "source": [
        "#Para actualizar un dato, use el update\n",
        "diccionario_ing_esp.update({\"negro\":\"black\"})\n",
        "diccionario_ing_esp"
      ],
      "metadata": {
        "id": "sUuiOsONTnRo",
        "colab": {
          "base_uri": "https://localhost:8080/"
        },
        "outputId": "00cd40c4-cef7-45f4-e847-8d3a6554cdbb"
      },
      "execution_count": null,
      "outputs": [
        {
          "output_type": "execute_result",
          "data": {
            "text/plain": [
              "{'casa': 'house',\n",
              " 'entender': 'understand',\n",
              " 'sediento': 'thirsty',\n",
              " 'rojo': 'red',\n",
              " 'ocupado': 'bussy',\n",
              " 'azul': 'blue',\n",
              " 'negro': 'black'}"
            ]
          },
          "metadata": {},
          "execution_count": 85
        }
      ]
    },
    {
      "cell_type": "code",
      "source": [
        "#Tambien puedo agregar una lista dentro de un diccionario\n",
        "diccionario_ing_esp.update({\"gris\":\"grey\",\"pronombres\":[\"he\",\"she\",\"it\"]}) #voy a hacer una actualización, la primera es agregar la llave gris al diccionario y, la otra es agregar la llave pronombres que es una lista y por eso va en corchetes cuadrados\n",
        "diccionario_ing_esp"
      ],
      "metadata": {
        "id": "YPPbGosJT4Og",
        "colab": {
          "base_uri": "https://localhost:8080/"
        },
        "outputId": "74a94f42-db82-46d4-81be-19e079fe9f25"
      },
      "execution_count": null,
      "outputs": [
        {
          "output_type": "execute_result",
          "data": {
            "text/plain": [
              "{'casa': 'house',\n",
              " 'entender': 'understand',\n",
              " 'sediento': 'thirsty',\n",
              " 'rojo': 'red',\n",
              " 'ocupado': 'bussy',\n",
              " 'azul': 'blue',\n",
              " 'negro': 'black',\n",
              " 'gris': 'grey',\n",
              " 'pronombres': ['he', 'she', 'it']}"
            ]
          },
          "metadata": {},
          "execution_count": 86
        }
      ]
    },
    {
      "cell_type": "code",
      "source": [
        "diccionario_ing_esp.values()"
      ],
      "metadata": {
        "id": "PWCUOXLlUv45",
        "colab": {
          "base_uri": "https://localhost:8080/"
        },
        "outputId": "087c602d-934a-448e-bbed-43cfff38eb15"
      },
      "execution_count": null,
      "outputs": [
        {
          "output_type": "execute_result",
          "data": {
            "text/plain": [
              "dict_values(['house', 'understand', 'thirsty', 'red', 'bussy', 'blue', 'black', 'grey', ['he', 'she', 'it']])"
            ]
          },
          "metadata": {},
          "execution_count": 87
        }
      ]
    },
    {
      "cell_type": "code",
      "source": [
        "#Para borrar datos, uso el metodo pop\n",
        "diccionario_ing_esp.pop(\"gris\")\n",
        "diccionario_ing_esp"
      ],
      "metadata": {
        "id": "CmSsZrdJVNBw",
        "colab": {
          "base_uri": "https://localhost:8080/"
        },
        "outputId": "4b88f0ad-b581-4d69-8f95-a143e9b50f94"
      },
      "execution_count": null,
      "outputs": [
        {
          "output_type": "execute_result",
          "data": {
            "text/plain": [
              "{'casa': 'house',\n",
              " 'entender': 'understand',\n",
              " 'sediento': 'thirsty',\n",
              " 'rojo': 'red',\n",
              " 'ocupado': 'bussy',\n",
              " 'azul': 'blue',\n",
              " 'negro': 'black',\n",
              " 'pronombres': ['he', 'she', 'it']}"
            ]
          },
          "metadata": {},
          "execution_count": 88
        }
      ]
    },
    {
      "cell_type": "code",
      "source": [
        "#para eliminar del diccionario podemos usar tambien del\n",
        "del diccionario_ing_esp [\"pronombres\"]\n",
        "diccionario_ing_esp"
      ],
      "metadata": {
        "id": "YxUEDE08Vl_2",
        "colab": {
          "base_uri": "https://localhost:8080/"
        },
        "outputId": "0a206dd4-dd66-4d25-c8e0-992a20a31178"
      },
      "execution_count": null,
      "outputs": [
        {
          "output_type": "execute_result",
          "data": {
            "text/plain": [
              "{'casa': 'house',\n",
              " 'entender': 'understand',\n",
              " 'sediento': 'thirsty',\n",
              " 'rojo': 'red',\n",
              " 'ocupado': 'bussy',\n",
              " 'azul': 'blue',\n",
              " 'negro': 'black'}"
            ]
          },
          "metadata": {},
          "execution_count": 89
        }
      ]
    },
    {
      "cell_type": "markdown",
      "source": [
        "**Operadores lógicos se usa para comprobar condiciones y devolver True o False, dependiedo cual sea el casi soon escenciales para la toma de decisiones y para la creacion de la logica de programación.**"
      ],
      "metadata": {
        "id": "yXhBNaeUbxlR"
      }
    },
    {
      "cell_type": "code",
      "source": [
        "#El primero es and que traduce y\n",
        "print(\"operador and (Que significa y)\")\n",
        "print(\"Para qque y sea verdadero todas las condiciones deben ser verdaderas\")\n",
        "5>3 and 5<10"
      ],
      "metadata": {
        "id": "7IF0dCeSb2XL",
        "colab": {
          "base_uri": "https://localhost:8080/"
        },
        "outputId": "63e8788c-1a8c-4360-9b07-f2f3523ede26"
      },
      "execution_count": null,
      "outputs": [
        {
          "output_type": "stream",
          "name": "stdout",
          "text": [
            "operador and (Que significa y)\n",
            "Para qque y sea verdadero todas las condiciones deben ser verdaderas\n"
          ]
        },
        {
          "output_type": "execute_result",
          "data": {
            "text/plain": [
              "True"
            ]
          },
          "metadata": {},
          "execution_count": 90
        }
      ]
    },
    {
      "cell_type": "code",
      "source": [
        "5<3 and 5<10"
      ],
      "metadata": {
        "id": "SuP_5eg4cSW8",
        "colab": {
          "base_uri": "https://localhost:8080/"
        },
        "outputId": "f1c82558-d42b-446d-aa88-af0709c53a55"
      },
      "execution_count": null,
      "outputs": [
        {
          "output_type": "execute_result",
          "data": {
            "text/plain": [
              "False"
            ]
          },
          "metadata": {},
          "execution_count": 91
        }
      ]
    },
    {
      "cell_type": "code",
      "source": [
        "#Para usar o, se usa la palabra reversada or, en or por lo menos una de las condiciones debe ser verdadera\n",
        "5<3 or 5<10"
      ],
      "metadata": {
        "id": "68BeqPzBcWME",
        "colab": {
          "base_uri": "https://localhost:8080/"
        },
        "outputId": "f72d3c3c-f361-4fe6-e931-b9ffc52d104d"
      },
      "execution_count": null,
      "outputs": [
        {
          "output_type": "execute_result",
          "data": {
            "text/plain": [
              "True"
            ]
          },
          "metadata": {},
          "execution_count": 92
        }
      ]
    },
    {
      "cell_type": "code",
      "source": [
        "5<3 or 5>10"
      ],
      "metadata": {
        "id": "muzVJILNczT_",
        "colab": {
          "base_uri": "https://localhost:8080/"
        },
        "outputId": "c50518ae-6315-4c1b-f67e-e5bd41e1b587"
      },
      "execution_count": null,
      "outputs": [
        {
          "output_type": "execute_result",
          "data": {
            "text/plain": [
              "False"
            ]
          },
          "metadata": {},
          "execution_count": 93
        }
      ]
    },
    {
      "cell_type": "code",
      "source": [
        "5>3 or 5<10"
      ],
      "metadata": {
        "id": "aRSaE_H4c7Rr",
        "colab": {
          "base_uri": "https://localhost:8080/"
        },
        "outputId": "cefa14fb-7271-49f3-a5a3-d852825c8bee"
      },
      "execution_count": null,
      "outputs": [
        {
          "output_type": "execute_result",
          "data": {
            "text/plain": [
              "True"
            ]
          },
          "metadata": {},
          "execution_count": 94
        }
      ]
    },
    {
      "cell_type": "code",
      "source": [
        "#Exisate otro oprtsfor loigico que es NOT\n",
        "# not\n",
        "print(\"operador NOT (negacion logia)\")\n",
        "not 5>3"
      ],
      "metadata": {
        "id": "0vuMWRukdBES",
        "colab": {
          "base_uri": "https://localhost:8080/"
        },
        "outputId": "fecb120b-287f-4630-e8c9-6414b26f3d7e"
      },
      "execution_count": null,
      "outputs": [
        {
          "output_type": "stream",
          "name": "stdout",
          "text": [
            "operador NOT (negacion logia)\n"
          ]
        },
        {
          "output_type": "execute_result",
          "data": {
            "text/plain": [
              "False"
            ]
          },
          "metadata": {},
          "execution_count": 95
        }
      ]
    },
    {
      "cell_type": "markdown",
      "source": [
        "**Operaciones matemáticas, en este momento solo usaremos la mas basicas, que son las escenciales para cualquier lenguaje de programacion, suma, resta, multiplicacion, division, potenciacion, modulo**"
      ],
      "metadata": {
        "id": "PKzknGc9d4z-"
      }
    },
    {
      "cell_type": "code",
      "source": [
        "#Suma, se representa con el simbolo + y me sirve tambien para concatenar\n",
        "6+5"
      ],
      "metadata": {
        "id": "wA7y23aOd-D3",
        "colab": {
          "base_uri": "https://localhost:8080/"
        },
        "outputId": "d81310b1-6395-4ac9-d61a-ac085d54ca4c"
      },
      "execution_count": null,
      "outputs": [
        {
          "output_type": "execute_result",
          "data": {
            "text/plain": [
              "11"
            ]
          },
          "metadata": {},
          "execution_count": 96
        }
      ]
    },
    {
      "cell_type": "code",
      "source": [
        "#Resta, se representa con el guión -\n",
        "6-5"
      ],
      "metadata": {
        "id": "gq2DQpcceGBu",
        "colab": {
          "base_uri": "https://localhost:8080/"
        },
        "outputId": "e7403ee7-4929-48a4-a869-263bd933760e"
      },
      "execution_count": null,
      "outputs": [
        {
          "output_type": "execute_result",
          "data": {
            "text/plain": [
              "1"
            ]
          },
          "metadata": {},
          "execution_count": 97
        }
      ]
    },
    {
      "cell_type": "code",
      "source": [
        "#Multiplicación, se representa con el asterisco, me sirve para multiplicar cadenas\n",
        "7*5"
      ],
      "metadata": {
        "id": "zq_3c3f9eLeR",
        "colab": {
          "base_uri": "https://localhost:8080/"
        },
        "outputId": "7b2ef042-7cec-4a75-f0f0-efb26988a029"
      },
      "execution_count": null,
      "outputs": [
        {
          "output_type": "execute_result",
          "data": {
            "text/plain": [
              "35"
            ]
          },
          "metadata": {},
          "execution_count": 98
        }
      ]
    },
    {
      "cell_type": "code",
      "source": [
        "#División, uso el slash, y me da resultados con decimales\n",
        "37/3"
      ],
      "metadata": {
        "id": "8gcDwBmheXsL",
        "colab": {
          "base_uri": "https://localhost:8080/"
        },
        "outputId": "5beecfb7-1ff7-4bf9-ecdd-3b9c582f44dc"
      },
      "execution_count": null,
      "outputs": [
        {
          "output_type": "execute_result",
          "data": {
            "text/plain": [
              "12.333333333333334"
            ]
          },
          "metadata": {},
          "execution_count": 99
        }
      ]
    },
    {
      "cell_type": "code",
      "source": [
        "3#Potenciación, se usa el doble asterisco **, primero la base y luego el exponente\n",
        "5**5"
      ],
      "metadata": {
        "id": "Ub8EEQb2egeV",
        "colab": {
          "base_uri": "https://localhost:8080/"
        },
        "outputId": "1d1bb2ee-74af-49b9-f5e5-189e8781a543"
      },
      "execution_count": null,
      "outputs": [
        {
          "output_type": "execute_result",
          "data": {
            "text/plain": [
              "3125"
            ]
          },
          "metadata": {},
          "execution_count": 100
        }
      ]
    },
    {
      "cell_type": "code",
      "source": [
        "#Módulo, para hacer el modulo uso el simbolo %\n",
        "23%4"
      ],
      "metadata": {
        "id": "-Q_tCKB_etjD",
        "colab": {
          "base_uri": "https://localhost:8080/"
        },
        "outputId": "e48f67bf-6d95-4f75-9d8f-fa84ec434ddc"
      },
      "execution_count": null,
      "outputs": [
        {
          "output_type": "execute_result",
          "data": {
            "text/plain": [
              "3"
            ]
          },
          "metadata": {},
          "execution_count": 101
        }
      ]
    },
    {
      "cell_type": "code",
      "source": [
        "#Operadores de comparación,  nos sirven para comparar valores y saber si la comparacion es verdadera o falsa\n",
        "#Para comparar si dos valores son iguales, uso ==\n",
        "(3+29)==21"
      ],
      "metadata": {
        "id": "VmSa0Z9dffYN",
        "colab": {
          "base_uri": "https://localhost:8080/"
        },
        "outputId": "6456e97f-ec6e-48dc-b82f-8f370cfc30ee"
      },
      "execution_count": null,
      "outputs": [
        {
          "output_type": "execute_result",
          "data": {
            "text/plain": [
              "False"
            ]
          },
          "metadata": {},
          "execution_count": 102
        }
      ]
    },
    {
      "cell_type": "code",
      "source": [
        "#Para hacer una comparacion diferente de, uso !=\n",
        "(3+29)!=21"
      ],
      "metadata": {
        "id": "DZa9mBkef6P8",
        "colab": {
          "base_uri": "https://localhost:8080/"
        },
        "outputId": "66b72542-ee10-49ef-afe7-5c80f1e6b3f8"
      },
      "execution_count": null,
      "outputs": [
        {
          "output_type": "execute_result",
          "data": {
            "text/plain": [
              "True"
            ]
          },
          "metadata": {},
          "execution_count": 103
        }
      ]
    },
    {
      "cell_type": "code",
      "source": [
        "#Mayor que >\n",
        "(3+29)>21"
      ],
      "metadata": {
        "id": "KYUOpPLvgIe7",
        "colab": {
          "base_uri": "https://localhost:8080/"
        },
        "outputId": "00786370-2b5a-494f-c7ff-828147b0f20e"
      },
      "execution_count": null,
      "outputs": [
        {
          "output_type": "execute_result",
          "data": {
            "text/plain": [
              "True"
            ]
          },
          "metadata": {},
          "execution_count": 104
        }
      ]
    },
    {
      "cell_type": "code",
      "source": [
        "#Menor que <\n",
        "(3+29)<21"
      ],
      "metadata": {
        "id": "A0MBSjIVgQ83",
        "colab": {
          "base_uri": "https://localhost:8080/"
        },
        "outputId": "1e7751c3-98d1-468c-9a30-7399ae2a0914"
      },
      "execution_count": null,
      "outputs": [
        {
          "output_type": "execute_result",
          "data": {
            "text/plain": [
              "False"
            ]
          },
          "metadata": {},
          "execution_count": 105
        }
      ]
    },
    {
      "cell_type": "code",
      "source": [
        "#Menor o igual o, Mayor o igual\n",
        "#>= Mayor o igual que\n",
        "#<= Menor o igual que\n",
        "(3+18)<=21"
      ],
      "metadata": {
        "id": "gL_EzO5ugTAs",
        "colab": {
          "base_uri": "https://localhost:8080/"
        },
        "outputId": "66a6f825-cbc2-45b2-9d72-a255161bb028"
      },
      "execution_count": null,
      "outputs": [
        {
          "output_type": "execute_result",
          "data": {
            "text/plain": [
              "True"
            ]
          },
          "metadata": {},
          "execution_count": 106
        }
      ]
    },
    {
      "cell_type": "markdown",
      "source": [
        "**Condicionales:** Me permiten ejecutar un bloque de codigo, si la condicion es verdadera o falsa. Sirve como entes de control, su sintaxis es de la siguiente manera. Las condicionales en python son:**if, elif, else **"
      ],
      "metadata": {
        "id": "cR6tvYqlgzcJ"
      }
    },
    {
      "cell_type": "code",
      "source": [
        "#if condición:\n",
        "  #(código que quiero ejecutar)\n",
        "#else:\n",
        "  #(codigo a ejecutar)"
      ],
      "metadata": {
        "id": "MYqALzEGg9y5"
      },
      "execution_count": null,
      "outputs": []
    },
    {
      "cell_type": "code",
      "source": [
        "edad_michael=16\n",
        "if edad_michael >= 18:\n",
        "  print(\"Michael bienvenido, pero deberias estar trabajando\")\n",
        "else:\n",
        "  print(\"Michael, estas muy chiquito\")"
      ],
      "metadata": {
        "id": "pp3GFUgShoYX",
        "colab": {
          "base_uri": "https://localhost:8080/"
        },
        "outputId": "94d217b8-b955-4c1c-a36f-390413f4be99"
      },
      "execution_count": null,
      "outputs": [
        {
          "output_type": "stream",
          "name": "stdout",
          "text": [
            "Michael, estas muy chiquito\n"
          ]
        }
      ]
    },
    {
      "cell_type": "code",
      "source": [
        "edad_usuario= int(input(\"Hola para ingresar por favor comprueba tu edad\"))\n",
        "if edad_usuario >= 18:\n",
        "  print(\"Bienvenido, puedes apostar tu casa\")\n",
        "else:\n",
        "  print(\"Eres pequeño, no apuestes porfavor\")"
      ],
      "metadata": {
        "id": "yK3uRXGziJNX",
        "colab": {
          "base_uri": "https://localhost:8080/"
        },
        "outputId": "378b29d9-ea3b-4a17-d5c2-18c25104ebd8"
      },
      "execution_count": null,
      "outputs": [
        {
          "output_type": "stream",
          "name": "stdout",
          "text": [
            "Hola para ingresar por favor comprueba tu edad24\n",
            "Bienvenido, puedes apostar tu casa\n"
          ]
        }
      ]
    },
    {
      "cell_type": "code",
      "source": [
        "edad_usuario=int(input(\"Hola para ingresar por favor comprueba tu edad\"))\n",
        "if edad_usuario >= 18:\n",
        "  print(\"Bienvenido, puedes apostar tu casa\")\n",
        "elif edad >=13:\n",
        "  print(\"Eres un adolescente, pero no te preocupes TE ESPERAREMOS\")\n",
        "else:\n",
        "  print(\"Eres pequeño, no apuestes porfavor\")"
      ],
      "metadata": {
        "id": "nnMCtp5_ivhl",
        "colab": {
          "base_uri": "https://localhost:8080/"
        },
        "outputId": "3409f5d7-bb33-4be8-8b18-87bf433ef50a"
      },
      "execution_count": null,
      "outputs": [
        {
          "output_type": "stream",
          "name": "stdout",
          "text": [
            "Hola para ingresar por favor comprueba tu edad24\n",
            "Bienvenido, puedes apostar tu casa\n"
          ]
        }
      ]
    },
    {
      "cell_type": "code",
      "source": [
        "paises"
      ],
      "metadata": {
        "id": "sZuw7RYljqC1",
        "colab": {
          "base_uri": "https://localhost:8080/"
        },
        "outputId": "7766dec9-c453-441f-b3c6-52a18bc9688e"
      },
      "execution_count": null,
      "outputs": [
        {
          "output_type": "execute_result",
          "data": {
            "text/plain": [
              "['Venezuela', 'Paraguay', 'México', 'Ecuador', 'Colombia']"
            ]
          },
          "metadata": {},
          "execution_count": 111
        }
      ]
    },
    {
      "cell_type": "code",
      "source": [
        "if \"Francia\" in paises:\n",
        "  print(\"Esta no es una lista latinoamericana\")\n",
        "else:\n",
        "  print(\"los sudacas\")"
      ],
      "metadata": {
        "id": "YCYZNZCJkMAj",
        "colab": {
          "base_uri": "https://localhost:8080/"
        },
        "outputId": "865682ea-85a9-4a61-a101-c28893d62ce9"
      },
      "execution_count": null,
      "outputs": [
        {
          "output_type": "stream",
          "name": "stdout",
          "text": [
            "los sudacas\n"
          ]
        }
      ]
    },
    {
      "cell_type": "markdown",
      "source": [
        "**EJERCICIOS QUIZ**"
      ],
      "metadata": {
        "id": "TQZIsDeKhbgm"
      }
    },
    {
      "cell_type": "code",
      "source": [
        "edad_usuario=int(input(\"Hola para ingresar por favor comprueba tu edad\"))\n",
        "if edad_usuario >= 18:\n",
        "  print(\"Eres mayor de edad\")\n",
        "else:\n",
        "  print(\"Eres menor de edad\")"
      ],
      "metadata": {
        "id": "JdR0XILLkemB",
        "colab": {
          "base_uri": "https://localhost:8080/"
        },
        "outputId": "9bf7fc38-fabd-410c-ec67-55d7077e3eb2"
      },
      "execution_count": null,
      "outputs": [
        {
          "output_type": "stream",
          "name": "stdout",
          "text": [
            "Hola para ingresar por favor comprueba tu edad24\n",
            "Eres mayor de edad\n"
          ]
        }
      ]
    },
    {
      "cell_type": "code",
      "source": [
        "numero_1= int(input(\"Inserte el primer numero\"))\n",
        "numero_2= int(input(\"Inserte el segundo numero\"))\n",
        "suma=numero_1+numero_2\n",
        "resta=numero_1-numero_2\n",
        "multiplicacion=numero_1*numero_2\n",
        "division=numero_1/numero_2\n",
        "print(\"resultado de suma\", suma)\n",
        "print(\"resultado de resta\", resta)\n",
        "print(\"resultado de multiplicacion\", multiplicacion)\n",
        "print(\"resultado de division\", division)"
      ],
      "metadata": {
        "id": "G6GjFIQFhjnW",
        "colab": {
          "base_uri": "https://localhost:8080/"
        },
        "outputId": "0c699176-d43d-4834-bc95-c031565f2a8a"
      },
      "execution_count": null,
      "outputs": [
        {
          "output_type": "stream",
          "name": "stdout",
          "text": [
            "Inserte el primer numero3\n",
            "Inserte el segundo numero4\n",
            "resultado de suma 7\n",
            "resultado de resta -1\n",
            "resultado de multiplicacion 12\n",
            "resultado de division 0.75\n"
          ]
        }
      ]
    },
    {
      "cell_type": "code",
      "source": [
        "numero_potencia=int(input(\"inserte el numero base\"))\n",
        "potenciacion=numero_potencia**2\n",
        "print(\"resultado de potenciacion\", potenciacion)"
      ],
      "metadata": {
        "id": "IURz0rdWjqOy",
        "colab": {
          "base_uri": "https://localhost:8080/"
        },
        "outputId": "d11dd8a2-7526-459d-c790-eeea5cc34540"
      },
      "execution_count": null,
      "outputs": [
        {
          "output_type": "stream",
          "name": "stdout",
          "text": [
            "inserte el numero base2\n",
            "resultado de potenciacion 4\n"
          ]
        }
      ]
    },
    {
      "cell_type": "code",
      "source": [
        "parrafo=input(\"inserte el parrafo \")\n",
        "parrafo.upper()"
      ],
      "metadata": {
        "id": "P1YPcNRyl_AP",
        "colab": {
          "base_uri": "https://localhost:8080/",
          "height": 53
        },
        "outputId": "cc7c85c4-dce3-4ced-e2ee-99e25bc65242"
      },
      "execution_count": null,
      "outputs": [
        {
          "name": "stdout",
          "output_type": "stream",
          "text": [
            "inserte el parrafo hola, como estas?\n"
          ]
        },
        {
          "output_type": "execute_result",
          "data": {
            "text/plain": [
              "'HOLA, COMO ESTAS?'"
            ],
            "application/vnd.google.colaboratory.intrinsic+json": {
              "type": "string"
            }
          },
          "metadata": {},
          "execution_count": 116
        }
      ]
    },
    {
      "cell_type": "markdown",
      "source": [
        "**CONTINUACION CLASE 04/10/2024**\n",
        "\n",
        "**CICLOS Y BUCLES**\n",
        "Son estructiras de codigo, que me permiten iterar sobre una estructura o un rango. Existen los ciclos más usados: Los for que significa \"para\" o, los while que significa \"mientras que\""
      ],
      "metadata": {
        "id": "B0WvJkGXuDXt"
      }
    },
    {
      "cell_type": "code",
      "source": [
        "#De esta manera es la estructura de los ciclos for\n",
        "#for <variable>int<lista>:\n",
        "  #<ejecutable>\n",
        "paises"
      ],
      "metadata": {
        "id": "b5Yy7WWbuoby",
        "colab": {
          "base_uri": "https://localhost:8080/"
        },
        "outputId": "4be4672a-fe7c-4898-e832-9cb524f36386"
      },
      "execution_count": null,
      "outputs": [
        {
          "output_type": "execute_result",
          "data": {
            "text/plain": [
              "['Venezuela', 'Paraguay', 'México', 'Ecuador', 'Colombia']"
            ]
          },
          "metadata": {},
          "execution_count": 117
        }
      ]
    },
    {
      "cell_type": "code",
      "source": [
        "for i in paises:\n",
        "  print(i)"
      ],
      "metadata": {
        "id": "vlz5SuDzv9VW",
        "colab": {
          "base_uri": "https://localhost:8080/"
        },
        "outputId": "301d0f53-89c1-4562-c9a0-9f5bcb2bc6a9"
      },
      "execution_count": null,
      "outputs": [
        {
          "output_type": "stream",
          "name": "stdout",
          "text": [
            "Venezuela\n",
            "Paraguay\n",
            "México\n",
            "Ecuador\n",
            "Colombia\n"
          ]
        }
      ]
    },
    {
      "cell_type": "code",
      "source": [
        "for i in paises:\n",
        "  if i == \"Colombia\":\n",
        "    print(i, \"Este pais esta infiltrado\")"
      ],
      "metadata": {
        "id": "r8ZwxvkJwmQZ",
        "colab": {
          "base_uri": "https://localhost:8080/"
        },
        "outputId": "d386b082-2f43-4584-9fc9-2d70a5ef1b3e"
      },
      "execution_count": null,
      "outputs": [
        {
          "output_type": "stream",
          "name": "stdout",
          "text": [
            "Colombia Este pais esta infiltrado\n"
          ]
        }
      ]
    },
    {
      "cell_type": "code",
      "source": [
        "for numero, i in enumerate(paises):\n",
        "  print(numero)\n",
        "  print(i)"
      ],
      "metadata": {
        "id": "wQbxkw2yw1bN",
        "colab": {
          "base_uri": "https://localhost:8080/"
        },
        "outputId": "6447546b-f6f6-4236-9546-12f02c993c69"
      },
      "execution_count": null,
      "outputs": [
        {
          "output_type": "stream",
          "name": "stdout",
          "text": [
            "0\n",
            "Venezuela\n",
            "1\n",
            "Paraguay\n",
            "2\n",
            "México\n",
            "3\n",
            "Ecuador\n",
            "4\n",
            "Colombia\n"
          ]
        }
      ]
    },
    {
      "cell_type": "markdown",
      "source": [
        "**FUNCIONES**"
      ],
      "metadata": {
        "id": "0Fphl_gT3flo"
      }
    },
    {
      "cell_type": "code",
      "source": [
        "#funcion len me da la lingitud de una regla\n",
        "len(paises)"
      ],
      "metadata": {
        "id": "x807oqVn3irS",
        "colab": {
          "base_uri": "https://localhost:8080/"
        },
        "outputId": "18e58f77-b3e5-49b2-f534-5000e5567b01"
      },
      "execution_count": null,
      "outputs": [
        {
          "output_type": "execute_result",
          "data": {
            "text/plain": [
              "5"
            ]
          },
          "metadata": {},
          "execution_count": 121
        }
      ]
    },
    {
      "cell_type": "code",
      "source": [
        "#funcion max me sirve para mostrar el numero mas grande de una regla\n",
        "max([1,4,7,6,9,7,0])"
      ],
      "metadata": {
        "id": "Yq2Im7WF3qsa",
        "colab": {
          "base_uri": "https://localhost:8080/"
        },
        "outputId": "70bb8381-ed0d-410a-e9a6-ee4c6deb82b7"
      },
      "execution_count": null,
      "outputs": [
        {
          "output_type": "execute_result",
          "data": {
            "text/plain": [
              "9"
            ]
          },
          "metadata": {},
          "execution_count": 123
        }
      ]
    },
    {
      "cell_type": "code",
      "source": [
        "#funcion min me sirve para mostrar el numero mas pequeño de una regla\n",
        "min([1,4,7,6,9,7,0])"
      ],
      "metadata": {
        "id": "e-3vy3LI3-bm",
        "colab": {
          "base_uri": "https://localhost:8080/"
        },
        "outputId": "522ea64b-d8ae-46b4-e2e4-8295a7735800"
      },
      "execution_count": null,
      "outputs": [
        {
          "output_type": "execute_result",
          "data": {
            "text/plain": [
              "0"
            ]
          },
          "metadata": {},
          "execution_count": 125
        }
      ]
    },
    {
      "cell_type": "code",
      "source": [
        "#type me sirve para saber el tipo de dato de una variable\n",
        "type(paises)"
      ],
      "metadata": {
        "id": "dLnMevB-4FkP",
        "colab": {
          "base_uri": "https://localhost:8080/"
        },
        "outputId": "b2c0c123-aa12-47c6-c1cd-f9057a720d71"
      },
      "execution_count": null,
      "outputs": [
        {
          "output_type": "execute_result",
          "data": {
            "text/plain": [
              "list"
            ]
          },
          "metadata": {},
          "execution_count": 126
        }
      ]
    },
    {
      "cell_type": "code",
      "source": [
        "#round me sirve para redondear decimales\n",
        "round(3.1426,2)"
      ],
      "metadata": {
        "id": "CZDtutTR4QVl",
        "colab": {
          "base_uri": "https://localhost:8080/"
        },
        "outputId": "ed0aca02-712e-42b0-c021-25c2e3130036"
      },
      "execution_count": null,
      "outputs": [
        {
          "output_type": "execute_result",
          "data": {
            "text/plain": [
              "3.14"
            ]
          },
          "metadata": {},
          "execution_count": 127
        }
      ]
    },
    {
      "cell_type": "code",
      "source": [
        "#range nos sirve para crear una secuencia de número, tiene tres argumentos: El inicio, el final, el paso.\n",
        "contando=range(0,200,5)"
      ],
      "metadata": {
        "id": "OkUDg70I4bST"
      },
      "execution_count": null,
      "outputs": []
    },
    {
      "cell_type": "code",
      "source": [
        "for i in contando:\n",
        "  print(i)"
      ],
      "metadata": {
        "id": "Hik0WyrK4pDW",
        "colab": {
          "base_uri": "https://localhost:8080/"
        },
        "outputId": "543aabdc-dee6-40ac-e93d-a3f4393251d5"
      },
      "execution_count": null,
      "outputs": [
        {
          "output_type": "stream",
          "name": "stdout",
          "text": [
            "0\n",
            "5\n",
            "10\n",
            "15\n",
            "20\n",
            "25\n",
            "30\n",
            "35\n",
            "40\n",
            "45\n",
            "50\n",
            "55\n",
            "60\n",
            "65\n",
            "70\n",
            "75\n",
            "80\n",
            "85\n",
            "90\n",
            "95\n",
            "100\n",
            "105\n",
            "110\n",
            "115\n",
            "120\n",
            "125\n",
            "130\n",
            "135\n",
            "140\n",
            "145\n",
            "150\n",
            "155\n",
            "160\n",
            "165\n",
            "170\n",
            "175\n",
            "180\n",
            "185\n",
            "190\n",
            "195\n"
          ]
        }
      ]
    },
    {
      "cell_type": "code",
      "source": [
        "#Las funciones propias son las que yo creo y me sirven apra reutilizar un código\n",
        "#La palabra reservada para declarar una funcion es def\n",
        "def suma(a,b):\n",
        "  resultado=a+b\n",
        "  return resultado"
      ],
      "metadata": {
        "id": "n4yu9gjM4_qX"
      },
      "execution_count": null,
      "outputs": []
    },
    {
      "cell_type": "code",
      "source": [
        "suma(2,3)"
      ],
      "metadata": {
        "id": "f_JBF0sP5GXn",
        "colab": {
          "base_uri": "https://localhost:8080/"
        },
        "outputId": "87716911-fb7f-4e0f-89a9-3924adb7911a"
      },
      "execution_count": null,
      "outputs": [
        {
          "output_type": "execute_result",
          "data": {
            "text/plain": [
              "5"
            ]
          },
          "metadata": {},
          "execution_count": 131
        }
      ]
    },
    {
      "cell_type": "code",
      "source": [
        "def pan(cantidad_pan,precio_pan):\n",
        "  precio_pan=cantidad_pan*precio_pan\n",
        "  return precio_pan"
      ],
      "metadata": {
        "id": "SSmpFP525emH"
      },
      "execution_count": null,
      "outputs": []
    },
    {
      "cell_type": "code",
      "source": [
        "cantidad_pan= int(input(\"Hola veci, cuantos panes quiere \"))\n",
        "precio_pan= int(input(\"La unidad de pan equivale a \"))\n",
        "pan(cantidad_pan,precio_pan)"
      ],
      "metadata": {
        "id": "VJlOOLLT7W1I",
        "colab": {
          "base_uri": "https://localhost:8080/"
        },
        "outputId": "1d978050-1d0f-4adb-818e-9c9a454da063"
      },
      "execution_count": null,
      "outputs": [
        {
          "name": "stdout",
          "output_type": "stream",
          "text": [
            "Hola veci, cuantos panes quiere 2\n",
            "La unidad de pan equivale a 300\n"
          ]
        },
        {
          "output_type": "execute_result",
          "data": {
            "text/plain": [
              "600"
            ]
          },
          "metadata": {},
          "execution_count": 133
        }
      ]
    },
    {
      "cell_type": "code",
      "source": [
        "suma(2,4)"
      ],
      "metadata": {
        "id": "pPrLG_jU9GqM",
        "colab": {
          "base_uri": "https://localhost:8080/"
        },
        "outputId": "4d9ac92d-ddb2-402d-e1a0-c4117efbfffc"
      },
      "execution_count": null,
      "outputs": [
        {
          "output_type": "execute_result",
          "data": {
            "text/plain": [
              "6"
            ]
          },
          "metadata": {},
          "execution_count": 136
        }
      ]
    },
    {
      "cell_type": "code",
      "source": [
        "#Escribe un programa que calcule el total de una compra de supermercado, el usuario debe ingresar el precio de dos productos y las cantidades que desee comprar de cada uno, luego el programa deberá permitir sumar los precios de ambos productos, multiplicar los precios por las cantidades de producto para obtener la cantidad total, restar un descuento del total(si el usuario tiene un cupon), dividir el total entre 2 personas por si desean dividir la cuenta.\n",
        "def suma_productos(a,b):\n",
        "  resultado_suma=a+b\n",
        "  return resultado_suma\n",
        "def multiplicacion(a,b):\n",
        "  resultado_multiplicacion=a*b\n",
        "  return resultado_multiplicacion\n",
        "def dividir(a,b):\n",
        "  if b !=0:\n",
        "    return a/b\n",
        "  else:\n",
        "    return print(\"No se puede didivir entre cero\")\n",
        "def resta(a,b):\n",
        "  resultado_resta=a-b\n",
        "  return resultado_resta"
      ],
      "metadata": {
        "id": "WftjcHsw9Xeg"
      },
      "execution_count": null,
      "outputs": []
    },
    {
      "cell_type": "code",
      "source": [
        "print(\"Bienvenido a supermarket de la esquina\")\n",
        "precio_1=float(input(\"ingresa el precio de tu producto\"))\n",
        "cantidad_1=int(input(\"ingresa la cantidad\"))\n",
        "precio_2=float(input(\"ingresa el precio de tu producto\"))\n",
        "cantidad_2=int(input(\"ingresa la cantidad\"))\n",
        "operacion=input(\"\"\"Bienvenido, como estas?, cuentame que quieres hacer\n",
        "1. Sumar los precios de ambos productos\n",
        "2. Calcular el costo total multiplicando precio por cantidad\n",
        "3. Aplicar un descuento al total\n",
        "4. Dividir el total entre dos personas\n",
        "No olvides que solo puedes elegir 1,2,3 y 4: \"\"\")\n",
        "if operacion==\"1\":\n",
        "  total_precio=suma_productos(precio_1,precio_2)\n",
        "  print(total_precio)"
      ],
      "metadata": {
        "colab": {
          "base_uri": "https://localhost:8080/"
        },
        "id": "g-s2cWE0IpI6",
        "outputId": "f9dc71e7-8422-446f-985e-c5b4cd548699"
      },
      "execution_count": null,
      "outputs": [
        {
          "output_type": "stream",
          "name": "stdout",
          "text": [
            "Bienvenido a supermarket de la esquina\n",
            "ingresa el precio de tu producto200\n",
            "ingresa la cantidad2\n",
            "ingresa el precio de tu producto3400\n",
            "ingresa la cantidad3\n",
            "Bienvenido, como estas?, cuentame que quieres hacer\n",
            "1. Sumar los precios de ambos productos\n",
            "2. Calcular el costo total multiplicando precio por cantidad\n",
            "3. Aplicar un descuento al total\n",
            "4. Dividir el total entre dos personas\n",
            "No olvides que solo puedes elegir 1,2,3 y 4: 1\n",
            "3600.0\n"
          ]
        }
      ]
    },
    {
      "cell_type": "code",
      "source": [
        "\n"
      ],
      "metadata": {
        "id": "6Rrw0iOSIvkD"
      },
      "execution_count": null,
      "outputs": []
    }
  ]
}